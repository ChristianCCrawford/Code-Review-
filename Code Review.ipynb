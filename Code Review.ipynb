{
 "cells": [
  {
   "cell_type": "code",
   "execution_count": 68,
   "id": "53e69d2e",
   "metadata": {},
   "outputs": [
    {
     "name": "stdout",
     "output_type": "stream",
     "text": [
      "Hello, possible pirate! What's the password?arrr\n",
      "Greetings, hater of pirates!\n"
     ]
    }
   ],
   "source": [
    "greeting = input(\"Hello, possible pirate! What's the password?\")\n",
    "if greeting in (\"Arrr!\"):\n",
    "\tprint(\"Go away, pirate.\")\n",
    "else:\n",
    "\tprint(\"Greetings, hater of pirates!\")"
   ]
  },
  {
   "cell_type": "markdown",
   "id": "2c6ad02a",
   "metadata": {},
   "source": [
    "The bug with this fucntion was a syntax error. The input needed a closing \". Also ,the greeting in was missing a opening (. The elif needed to be changed to else with a : and the print statement under should have been indemented.  "
   ]
  },
  {
   "cell_type": "code",
   "execution_count": 77,
   "id": "055d7ed8",
   "metadata": {},
   "outputs": [
    {
     "name": "stdout",
     "output_type": "stream",
     "text": [
      "{'Charles Dickens': '1870', 'William Thackeray': '1863', 'Anthony Trollope': '1882', 'Gerard Manley Hopkins': '1889'} died in 1870.\n",
      "{'Charles Dickens': '1870', 'William Thackeray': '1863', 'Anthony Trollope': '1882', 'Gerard Manley Hopkins': '1889'} died in 1863.\n",
      "{'Charles Dickens': '1870', 'William Thackeray': '1863', 'Anthony Trollope': '1882', 'Gerard Manley Hopkins': '1889'} died in 1882.\n",
      "{'Charles Dickens': '1870', 'William Thackeray': '1863', 'Anthony Trollope': '1882', 'Gerard Manley Hopkins': '1889'} died in 1889.\n"
     ]
    }
   ],
   "source": [
    "# Create a collection of these authors and\n",
    "# the year they kicked the bucket;\n",
    "# print the collection in the following format:\n",
    "\n",
    "# Charles Dickens died in 1870.\n",
    "\n",
    "# Charles Dickens, 1870\n",
    "# William Thackeray, 1863\n",
    "# Anthony Trollope, 1882\n",
    "# Gerard Manley Hopkins, 1889\n",
    "\n",
    "authors = {\n",
    "    \"Charles Dickens\": \"1870\",\n",
    "    \"William Thackeray\": \"1863\",\n",
    "    \"Anthony Trollope\": \"1882\",\n",
    "    \"Gerard Manley Hopkins\": \"1889\"\n",
    "}\n",
    "    \n",
    "for author, date in authors.items():\n",
    "    print(\"%s\" % authors + \" died in \" + \"%s.\" % date)"
   ]
  },
  {
   "cell_type": "markdown",
   "id": "3f6115ea",
   "metadata": {},
   "source": [
    "The first bug of this method is the incorrect spelling of the collection(it is authors not authrs). NExt is that the } was not closed before the for loop. The for loop also had {} instead of (). Also, the print statement for the for loop did not have () surrounding the strings.   "
   ]
  },
  {
   "cell_type": "code",
   "execution_count": 70,
   "id": "2479fc60",
   "metadata": {},
   "outputs": [
    {
     "name": "stdout",
     "output_type": "stream",
     "text": [
      "Greetings! What is your year of origin? 1999\n",
      "That's totally the present!\n"
     ]
    }
   ],
   "source": [
    "# A time traveler has suddenly appeared in your classroom!\n",
    "\n",
    "# Create a variable representing the traveler's\n",
    "# year of origin (e.g., year = 2000)\n",
    "# and greet our strange visitor with a different message\n",
    "# if he is from the distant past (before 1900),\n",
    "# the present era (1900-2020) or from the far future (beyond 2020).\n",
    "\n",
    "year = int(input(\"Greetings! What is your year of origin? \"))\n",
    "\n",
    "if year <= 1900:\n",
    "    print ('Woah, that\\'s the past!')\n",
    "elif  1900 < year < 2020:\n",
    "    print (\"That's totally the present!\")\n",
    "else:\n",
    "    print (\"Far out, that's the future!!\")"
   ]
  },
  {
   "cell_type": "markdown",
   "id": "e1c1d2d1",
   "metadata": {},
   "source": [
    "A lot of syntax errors: \n",
    "1.Greetings ended with an a ' instead of a \"\n",
    "2.\\ should be infront of 's\n",
    "3.1900 needed a : after\n",
    "4.Last elif should be else"
   ]
  },
  {
   "cell_type": "code",
   "execution_count": 79,
   "id": "a68c46a7",
   "metadata": {},
   "outputs": [
    {
     "ename": "TypeError",
     "evalue": "Person() takes no arguments",
     "output_type": "error",
     "traceback": [
      "\u001b[1;31m---------------------------------------------------------------------------\u001b[0m",
      "\u001b[1;31mTypeError\u001b[0m                                 Traceback (most recent call last)",
      "\u001b[1;32m<ipython-input-79-c37f56ba844a>\u001b[0m in \u001b[0;36m<module>\u001b[1;34m\u001b[0m\n\u001b[0;32m     12\u001b[0m       \u001b[0mprint\u001b[0m\u001b[1;33m(\u001b[0m\u001b[1;34m\"My name is \"\u001b[0m \u001b[1;33m+\u001b[0m \u001b[0mself\u001b[0m\u001b[1;33m.\u001b[0m\u001b[0mfirst\u001b[0m \u001b[1;33m+\u001b[0m \u001b[1;34m\" \"\u001b[0m \u001b[1;33m+\u001b[0m \u001b[0mself\u001b[0m\u001b[1;33m.\u001b[0m\u001b[0mlast\u001b[0m\u001b[1;33m)\u001b[0m\u001b[1;33m\u001b[0m\u001b[1;33m\u001b[0m\u001b[0m\n\u001b[0;32m     13\u001b[0m \u001b[1;33m\u001b[0m\u001b[0m\n\u001b[1;32m---> 14\u001b[1;33m \u001b[0mme\u001b[0m \u001b[1;33m=\u001b[0m \u001b[0mPerson\u001b[0m\u001b[1;33m(\u001b[0m\u001b[1;34m\"Brandon\"\u001b[0m\u001b[1;33m,\u001b[0m \u001b[1;34m\"Walsh\"\u001b[0m\u001b[1;33m)\u001b[0m\u001b[1;33m\u001b[0m\u001b[1;33m\u001b[0m\u001b[0m\n\u001b[0m\u001b[0;32m     15\u001b[0m \u001b[0myou\u001b[0m \u001b[1;33m=\u001b[0m \u001b[0mPerson\u001b[0m\u001b[1;33m(\u001b[0m\u001b[1;34m\"Ethan\"\u001b[0m\u001b[1;33m,\u001b[0m \u001b[1;34m\"Reed\"\u001b[0m\u001b[1;33m)\u001b[0m\u001b[1;33m\u001b[0m\u001b[1;33m\u001b[0m\u001b[0m\n\u001b[0;32m     16\u001b[0m \u001b[1;33m\u001b[0m\u001b[0m\n",
      "\u001b[1;31mTypeError\u001b[0m: Person() takes no arguments"
     ]
    }
   ],
   "source": [
    "# Write a simple class that defines a person\n",
    "# with attributes of first_name, last_name\n",
    "# and has a method signature of \"speak\" which\n",
    "# prints the object as \"Jefferson, Thomas\".\n",
    "#self\n",
    "\n",
    "class Person:\n",
    "  def __initalize__(first_name, last_name):\n",
    "    self.first = first_name\n",
    "    self.last = last_name\n",
    "  def speak(self):\n",
    "      print(\"My name is \" + self.first + \" \" + self.last)\n",
    "\n",
    "me = Person(\"Brandon\", \"Walsh\")\n",
    "you = Person(\"Ethan\", \"Reed\")\n",
    "\n",
    "me.speak()\n",
    "you.speak()"
   ]
  },
  {
   "cell_type": "markdown",
   "id": "6321a327",
   "metadata": {},
   "source": [
    "Syntax error:\n",
    "1.classy but should be class\n",
    "2.print statmeent under speak should be indented\n",
    "3.+ should go after \"\n",
    "4.fname should just be first\n",
    "5.you.self.speak need ()\n",
    "6.changer Person in me and you to initliaze \n",
    "7.lname should be lastname\n",
    "8."
   ]
  },
  {
   "cell_type": "code",
   "execution_count": 67,
   "id": "3a5b7cab",
   "metadata": {},
   "outputs": [
    {
     "name": "stdout",
     "output_type": "stream",
     "text": [
      "Input exam grade one: 0\n",
      "Input exam grade two: 0\n",
      "Input exam grade three: 0\n",
      "Exam: 0\n",
      "Average: 0.0\n",
      "Grade: F\n",
      "Exam: 0\n",
      "Average: 0.0\n",
      "Grade: F\n",
      "Exam: 0\n",
      "Average: 0.0\n",
      "Grade: F\n",
      "Student is failing.\n"
     ]
    }
   ],
   "source": [
    "# Calculating Grades (ok, let me think about this one)\n",
    "\n",
    "# Write a program that will average 3 numeric exam grades, return an average test score, a corresponding letter grade, and a message stating whether the student is passing.\n",
    "\n",
    "# Average\tGrade\n",
    "# 90+\tA\n",
    "# 80-89\tB\n",
    "# 70-79\tC\n",
    "# 60-69\tD\n",
    "# 0-59\tF\n",
    "\n",
    "# Exams: 89, 90, 90\n",
    "# Average: 90\n",
    "# Grade: A\n",
    "# Student is passing.\n",
    "\n",
    "# Exams: 50, 51, 0\n",
    "# Average: 33\n",
    "# Grade: F\n",
    "# Student is failing.\n",
    "\n",
    "exam_one = int(input(\"Input exam grade one: \"))\n",
    "\n",
    "exam_two = int(input(\"Input exam grade two: \"))\n",
    "\n",
    "exam_three = int(input(\"Input exam grade three: \"))\n",
    "\n",
    "grades = [exam_one, exam_two, exam_three]\n",
    "sum = 0\n",
    "for i in grades:\n",
    "  sum += i\n",
    "\n",
    "avg = sum / len(grades)\n",
    "\n",
    "if avg >= 90:\n",
    "    letter_grade = \"A\"\n",
    "elif avg >= 80 and avg < 90:\n",
    "    letter_grade = \"B\"\n",
    "elif avg > 69 and avg < 80:\n",
    "    letter_grade = \"C\"\n",
    "elif avg <= 69 and avg >= 65:\n",
    "    letter_grade = \"D\"\n",
    "else:\n",
    "    letter_grade = \"F\"\n",
    "\n",
    "for grade in grades:\n",
    "    print(\"Exam: \" + str(grade))\n",
    "\n",
    "    print(\"Average: \" + str(avg))\n",
    "\n",
    "    print(\"Grade: \" + letter_grade)\n",
    "\n",
    "if letter_grade == \"F\":\n",
    "    print(\"Student is failing.\")\n",
    "else:\n",
    "    print (\"Student is passing.\")"
   ]
  },
  {
   "cell_type": "markdown",
   "id": "efea1d30",
   "metadata": {},
   "source": [
    "Syntax Error\n",
    "1.exam_3 should just be exam_threee\n",
    "2.grades collection should have , between grade names\n",
    "3.grdes in avg should be grades\n",
    "4.C should end with a \"\n",
    "5.last elif should be else in checking letter grade\n",
    "6.exam two should have int(\n",
    "7.should change exam three to take int not str\n",
    "8.elif avg >= 80 and avg < 90 missing :\n",
    "9.if and else letter-grade is \"F\": need ()\n",
    "10.if letter-grade is \"F\": should be if letter-grade == \"F\":\n",
    "11.Line 30 change to grades\n",
    "12. Line 31 changes to grades\n",
    "13. line 53 should be letter_grade\n",
    "14. change sum = sum + grades to sum += i"
   ]
  }
 ],
 "metadata": {
  "kernelspec": {
   "display_name": "Python 3",
   "language": "python",
   "name": "python3"
  },
  "language_info": {
   "codemirror_mode": {
    "name": "ipython",
    "version": 3
   },
   "file_extension": ".py",
   "mimetype": "text/x-python",
   "name": "python",
   "nbconvert_exporter": "python",
   "pygments_lexer": "ipython3",
   "version": "3.9.4"
  }
 },
 "nbformat": 4,
 "nbformat_minor": 5
}
